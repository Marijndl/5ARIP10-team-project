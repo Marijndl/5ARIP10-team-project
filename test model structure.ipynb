{
 "cells": [
  {
   "cell_type": "code",
   "execution_count": 26,
   "outputs": [],
   "source": [
    "import torch\n",
    "import torch.nn as nn\n",
    "import torch.nn.functional as F\n",
    "import numpy as np\n",
    "import os\n",
    "from spherical_coordinates import *"
   ],
   "metadata": {
    "collapsed": false
   }
  },
  {
   "cell_type": "code",
   "execution_count": 41,
   "outputs": [
    {
     "data": {
      "text/plain": "tensor([[0.0228, 1.5708, 0.8024],\n        [0.0235, 1.5708, 0.8314],\n        [0.0228, 1.5708, 0.7965],\n        ...,\n        [0.0234, 1.5708, 0.3989],\n        [0.0233, 1.5708, 0.3569],\n        [0.0234, 1.5708, 0.3985]], dtype=torch.float64)"
     },
     "execution_count": 41,
     "metadata": {},
     "output_type": "execute_result"
    }
   ],
   "source": [
    "#Load data\n",
    "directory_2D = \"D:\\\\CTA data\\\\Segments_deformed_2\\\\\"\n",
    "file_names_2D = os.listdir(directory_2D)\n",
    "directory_3D = \"D:\\\\CTA data\\\\Segments renamed\\\\\"\n",
    "file_names_3D = os.listdir(directory_3D)\n",
    "\n",
    "data_2d = np.genfromtxt(os.path.join(directory_2D, file_names_2D[0]), delimiter=\",\")\n",
    "data_3d = np.genfromtxt(os.path.join(directory_3D, file_names_3D[0]), delimiter=\",\")[1:, 1:4]\n",
    "\n",
    "#Add row of zeros\n",
    "data_2d = np.hstack((data_2d, np.zeros((data_2d.shape[0],1))))\n",
    "\n",
    "#Normalize 3D\n",
    "data_3d[:, 0] -= np.min(data_3d[:, 0])\n",
    "data_3d[:, 1] -= np.min(data_3d[:, 1])\n",
    "data_3d[:, 2] -= np.min(data_3d[:, 2])\n",
    "\n",
    "#Convert to spherical:\n",
    "origin_2D, spherical_2D = convert_to_spherical(data_2d)\n",
    "origin_3D, spherical_3D = convert_to_spherical(data_3d)\n",
    "spherical_2D"
   ],
   "metadata": {
    "collapsed": false
   }
  },
  {
   "cell_type": "code",
   "execution_count": 68,
   "outputs": [
    {
     "data": {
      "text/plain": "tensor([[0.],\n        [0.],\n        [0.]])"
     },
     "execution_count": 68,
     "metadata": {},
     "output_type": "execute_result"
    }
   ],
   "source": [
    "origin_2D = torch.reshape(origin_2D, (3,1)).float()\n",
    "origin_3D = torch.reshape(origin_3D, (3,1)).float()\n",
    "\n",
    "spherical_2D = torch.reshape(spherical_2D, (3, 349)).float()\n",
    "spherical_3D = torch.reshape(spherical_3D, (3, 349)).float()\n",
    "\n",
    "origin_2D"
   ],
   "metadata": {
    "collapsed": false
   }
  },
  {
   "cell_type": "code",
   "execution_count": null,
   "outputs": [],
   "source": [
    "origin_branch = nn.Sequential(\n",
    "            nn.Conv1d(in_channels=3, out_channels=8, kernel_size=1),\n",
    "            # nn.BatchNorm1d(8),\n",
    "            nn.ReLU(),\n",
    "            nn.Conv1d(in_channels=8, out_channels=16, kernel_size=1),\n",
    "            # nn.BatchNorm1d(16),\n",
    "            nn.ReLU(),\n",
    "            nn.Conv1d(in_channels=16, out_channels=32, kernel_size=1),\n",
    "            # nn.BatchNorm1d(32),\n",
    "            nn.ReLU(),\n",
    "            nn.Conv1d(in_channels=32, out_channels=64, kernel_size=1),\n",
    "        )\n",
    "\n",
    "shape_branch = nn.Sequential(\n",
    "            nn.Conv1d(in_channels=3, out_channels=64, kernel_size=3, padding=1),\n",
    "            # nn.BatchNorm1d(64),\n",
    "            nn.ReLU(),\n",
    "            nn.Conv1d(in_channels=64, out_channels=64, kernel_size=3, padding=1),\n",
    "\n",
    "\n",
    "        )\n",
    "\n",
    "org_2 = origin_branch(origin_2D.float())\n",
    "shape_2 = shape_branch(spherical_2D.float())\n",
    "\n",
    "org_3 = origin_branch(origin_3D.float())\n",
    "shape_3 = shape_branch(spherical_3D.float())\n",
    "\n",
    "features_2 = torch.add(org_2, shape_2)\n",
    "features_3 = torch.add(org_3, shape_3)\n",
    "\n",
    "total_features = torch.vstack((features_2,features_3))\n",
    "total_features.shape"
   ],
   "metadata": {
    "collapsed": false,
    "pycharm": {
     "is_executing": true
    }
   }
  }
 ],
 "metadata": {
  "kernelspec": {
   "display_name": "Python 3",
   "language": "python",
   "name": "python3"
  },
  "language_info": {
   "codemirror_mode": {
    "name": "ipython",
    "version": 2
   },
   "file_extension": ".py",
   "mimetype": "text/x-python",
   "name": "python",
   "nbconvert_exporter": "python",
   "pygments_lexer": "ipython2",
   "version": "2.7.6"
  }
 },
 "nbformat": 4,
 "nbformat_minor": 0
}
