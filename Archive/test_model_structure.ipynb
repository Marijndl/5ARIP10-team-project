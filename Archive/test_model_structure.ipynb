{
 "cells": [
  {
   "cell_type": "code",
   "execution_count": 1,
   "outputs": [],
   "source": [
    "import torch\n",
    "import torch.nn as nn\n",
    "import torch.nn.functional as F\n",
    "import numpy as np\n",
    "import os\n",
    "from spherical_coordinates import *"
   ],
   "metadata": {
    "collapsed": false
   }
  },
  {
   "cell_type": "code",
   "execution_count": 2,
   "outputs": [
    {
     "data": {
      "text/plain": "tensor([[0.0228, 1.5708, 0.8024],\n        [0.0235, 1.5708, 0.8314],\n        [0.0228, 1.5708, 0.7965],\n        ...,\n        [0.0234, 1.5708, 0.3989],\n        [0.0233, 1.5708, 0.3569],\n        [0.0234, 1.5708, 0.3985]])"
     },
     "execution_count": 2,
     "metadata": {},
     "output_type": "execute_result"
    }
   ],
   "source": [
    "#Load data\n",
    "directory_2D = \"D:\\\\CTA data\\\\Segments_deformed_2\\\\\"\n",
    "file_names_2D = os.listdir(directory_2D)\n",
    "directory_3D = \"D:\\\\CTA data\\\\Segments renamed\\\\\"\n",
    "file_names_3D = os.listdir(directory_3D)\n",
    "\n",
    "data_2d = np.genfromtxt(os.path.join(directory_2D, file_names_2D[0]), delimiter=\",\")\n",
    "data_3d = np.genfromtxt(os.path.join(directory_3D, file_names_3D[0]), delimiter=\",\")[1:, 1:4]\n",
    "\n",
    "#Add row of zeros\n",
    "data_2d = np.hstack((data_2d, np.zeros((data_2d.shape[0],1))))\n",
    "\n",
    "#Normalize 3D\n",
    "data_3d[:, 0] -= np.min(data_3d[:, 0])\n",
    "data_3d[:, 1] -= np.min(data_3d[:, 1])\n",
    "data_3d[:, 2] -= np.min(data_3d[:, 2])\n",
    "\n",
    "#Convert to spherical:\n",
    "origin_2D, spherical_2D = convert_to_spherical(data_2d)\n",
    "origin_3D, spherical_3D = convert_to_spherical(data_3d)\n",
    "spherical_2D"
   ],
   "metadata": {
    "collapsed": false
   }
  },
  {
   "cell_type": "code",
   "execution_count": 3,
   "outputs": [
    {
     "data": {
      "text/plain": "tensor([[0.],\n        [0.],\n        [0.]])"
     },
     "execution_count": 3,
     "metadata": {},
     "output_type": "execute_result"
    }
   ],
   "source": [
    "origin_2D = torch.reshape(origin_2D, (3,1)).float()\n",
    "origin_3D = torch.reshape(origin_3D, (3,1)).float()\n",
    "\n",
    "spherical_2D = torch.reshape(spherical_2D, (3, 349)).float()\n",
    "spherical_3D = torch.reshape(spherical_3D, (3, 349)).float()\n",
    "\n",
    "origin_2D"
   ],
   "metadata": {
    "collapsed": false
   }
  },
  {
   "cell_type": "code",
   "execution_count": 16,
   "outputs": [
    {
     "name": "stdout",
     "output_type": "stream",
     "text": [
      "torch.Size([128, 349]) torch.Size([128, 175]) torch.Size([256, 88]) torch.Size([512, 44])\n"
     ]
    }
   ],
   "source": [
    "origin_branch = nn.Sequential(\n",
    "            nn.Conv1d(in_channels=3, out_channels=8, kernel_size=1),\n",
    "            # nn.BatchNorm1d(8),\n",
    "            nn.ReLU(),\n",
    "            nn.Conv1d(in_channels=8, out_channels=16, kernel_size=1),\n",
    "            # nn.BatchNorm1d(16),\n",
    "            nn.ReLU(),\n",
    "            nn.Conv1d(in_channels=16, out_channels=32, kernel_size=1),\n",
    "            # nn.BatchNorm1d(32),\n",
    "            nn.ReLU(),\n",
    "            nn.Conv1d(in_channels=32, out_channels=64, kernel_size=1),\n",
    "        )\n",
    "\n",
    "shape_branch = nn.Sequential(\n",
    "            nn.Conv1d(in_channels=3, out_channels=64, kernel_size=3, padding=1),\n",
    "            # nn.BatchNorm1d(64),\n",
    "            nn.ReLU(),\n",
    "            nn.Conv1d(in_channels=64, out_channels=64, kernel_size=3, padding=1),\n",
    "        )\n",
    "\n",
    "class Downsample(nn.Module):\n",
    "    def __init__(self, in_channels, out):\n",
    "        super(Downsample, self).__init__()\n",
    "        self.conv_layers = nn.Sequential(\n",
    "            nn.Conv1d(in_channels=in_channels, out_channels=64, kernel_size=1),\n",
    "            # nn.BatchNorm1d(64),\n",
    "            nn.ReLU(),\n",
    "            nn.Conv1d(in_channels=64, out_channels=64, kernel_size=3, padding=1),\n",
    "            # nn.BatchNorm1d(64),\n",
    "            nn.ReLU(),\n",
    "            nn.Conv1d(in_channels=64, out_channels=64, kernel_size=3, padding=1),\n",
    "            # nn.BatchNorm1d(64),\n",
    "            nn.ReLU(),\n",
    "            nn.Conv1d(in_channels=64, out_channels=64, kernel_size=3, padding=1, stride=2),\n",
    "            # nn.BatchNorm1d(64),\n",
    "            nn.ReLU(),\n",
    "            nn.Conv1d(in_channels=64, out_channels=out, kernel_size=1)\n",
    "        )\n",
    "\n",
    "        self.bn_relu_add = nn.Sequential(\n",
    "            # nn.BatchNorm1d(out),\n",
    "            nn.ReLU()\n",
    "        )\n",
    "\n",
    "        self.conv2 = nn.Sequential(nn.Conv1d(in_channels=in_channels, out_channels=out, kernel_size=3, padding=1, stride=2))\n",
    "\n",
    "    def forward(self, x):\n",
    "        return self.bn_relu_add(torch.add(self.conv_layers(x), self.conv2(x)))\n",
    "\n",
    "\n",
    "org_2 = origin_branch(origin_2D.float())\n",
    "shape_2 = shape_branch(spherical_2D.float())\n",
    "\n",
    "org_3 = origin_branch(origin_3D.float())\n",
    "shape_3 = shape_branch(spherical_3D.float())\n",
    "\n",
    "features_2 = torch.add(org_2, shape_2)\n",
    "features_3 = torch.add(org_3, shape_3)\n",
    "\n",
    "total_features = torch.cat((features_3, features_2), dim=0)\n",
    "total_features.shape\n",
    "\n",
    "dwn_sampler_1 = Downsample(128, 128)\n",
    "dwn_sampler_2 = Downsample(128, 256)\n",
    "dwn_sampler_3 = Downsample(256, 512)\n",
    "ds1 = dwn_sampler_1.forward(total_features)\n",
    "ds2 = dwn_sampler_2.forward(ds1)\n",
    "ds3 = dwn_sampler_3.forward(ds2)\n",
    "print(total_features.shape, ds1.shape, ds2.shape, ds3.shape)"
   ],
   "metadata": {
    "collapsed": false
   }
  }
 ],
 "metadata": {
  "kernelspec": {
   "display_name": "Python 3",
   "language": "python",
   "name": "python3"
  },
  "language_info": {
   "codemirror_mode": {
    "name": "ipython",
    "version": 2
   },
   "file_extension": ".py",
   "mimetype": "text/x-python",
   "name": "python",
   "nbconvert_exporter": "python",
   "pygments_lexer": "ipython2",
   "version": "2.7.6"
  }
 },
 "nbformat": 4,
 "nbformat_minor": 0
}
